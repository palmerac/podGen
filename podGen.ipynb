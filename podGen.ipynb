{
 "cells": [
  {
   "cell_type": "code",
   "execution_count": 1,
   "metadata": {},
   "outputs": [],
   "source": [
    "import pandas as pd\n",
    "import numpy as np\n",
    "import os\n",
    "import ollama\n",
    "import openai \n",
    "import gtts"
   ]
  },
  {
   "cell_type": "markdown",
   "metadata": {},
   "source": [
    "## Parameters"
   ]
  },
  {
   "cell_type": "code",
   "execution_count": 2,
   "metadata": {},
   "outputs": [],
   "source": [
    "with open('prompt.md', 'r') as file:\n",
    "    prompt = file.read().strip()\n",
    "\n",
    "topic = \"Toronto, Ontario\"\n",
    "length = 10\n",
    "wc = 130*length\n",
    "tc = int(wc/0.6) # conservative token count estimate for max_tokens\n",
    "\n",
    "prompt = prompt.format(topic=topic, length=length, wc=wc)\n",
    "system_prompt = (\n",
    "    \"You are an expert podcast scriptwriter. Your goal is to create structured, engaging, and conversational \"\n",
    "    \"scripts for monologue-style podcast episodes or lectures. Your outputs should flow naturally like a story \"\n",
    "    \"while maintaining clarity and depth. Focus on connection, storytelling, and thought-provoking insights.\"\n",
    ")"
   ]
  },
  {
   "cell_type": "code",
   "execution_count": 3,
   "metadata": {},
   "outputs": [
    {
     "name": "stdout",
     "output_type": "stream",
     "text": [
      "2166\n"
     ]
    }
   ],
   "source": [
    "print(tc)\n",
    "# print(prompt)"
   ]
  },
  {
   "cell_type": "code",
   "execution_count": 49,
   "metadata": {},
   "outputs": [
    {
     "name": "stdout",
     "output_type": "stream",
     "text": [
      "Script saved to outputs/Hanover,Ontario.txt\n"
     ]
    }
   ],
   "source": [
    "# response = openai.ChatCompletion.create(\n",
    "#     model=\"gpt-4o-mini\",\n",
    "#     messages=[\n",
    "#         {\"role\": \"system\", \"content\": system_prompt},\n",
    "#         {\"role\": \"user\", \"content\": prompt},\n",
    "#     ],\n",
    "#     temperature=0.7,\n",
    "#     max_tokens=tc  \n",
    "# )\n",
    "# script_content = response[\"choices\"][0][\"message\"][\"content\"]\n",
    "\n",
    "response = ollama.chat(\n",
    "        model=\"llama3.2\",  # You can replace with the model you're using\n",
    "        messages=[\n",
    "            {\"role\": \"system\", \"content\": system_prompt},\n",
    "            {\"role\": \"user\", \"content\": prompt},\n",
    "        ]\n",
    "    )\n",
    "script = response['message']['content']\n",
    "\n",
    "\n",
    "\n",
    "\n",
    "os.makedirs(\"outputs\", exist_ok=True) \n",
    "file_path = os.path.join(\"outputs\", f\"{topic.replace(' ', '')}.txt\")\n",
    "\n",
    "with open(file_path, \"w\") as file:\n",
    "    # file.write(\"# \" + topic + \"\\n\\n\")  \n",
    "    file.write(script)\n",
    "print(f\"Script saved to {file_path}\")"
   ]
  },
  {
   "cell_type": "code",
   "execution_count": 65,
   "metadata": {},
   "outputs": [
    {
     "name": "stdout",
     "output_type": "stream",
     "text": [
      "Word Count: 625\n",
      "Character Count: 3888\n",
      "Cost to Speak: $0.058\n"
     ]
    }
   ],
   "source": [
    "count = len(script)\n",
    "word_count = len(script.split())\n",
    "print(f\"Word Count: {word_count}\")\n",
    "\n",
    "# for 4o-mini\n",
    "cost = 15/1000000\n",
    "print(f\"Character Count: {count}\")\n",
    "print(f\"Cost to Speak: ${(cost*count):.3f}\")"
   ]
  },
  {
   "cell_type": "code",
   "execution_count": 50,
   "metadata": {},
   "outputs": [],
   "source": [
    "from gtts import gTTS\n",
    "\n",
    "\n",
    "tts = gTTS(text=script, lang='en')\n",
    "tts.save(f\"outputs/{topic.replace(' ', '')}.mp3\")"
   ]
  }
 ],
 "metadata": {
  "kernelspec": {
   "display_name": "Python 3",
   "language": "python",
   "name": "python3"
  },
  "language_info": {
   "codemirror_mode": {
    "name": "ipython",
    "version": 3
   },
   "file_extension": ".py",
   "mimetype": "text/x-python",
   "name": "python",
   "nbconvert_exporter": "python",
   "pygments_lexer": "ipython3",
   "version": "3.11.0"
  }
 },
 "nbformat": 4,
 "nbformat_minor": 2
}
